{
 "cells": [
  {
   "cell_type": "code",
   "execution_count": 2,
   "id": "082f49d8-0ba4-4024-8063-f3ade9248e9a",
   "metadata": {},
   "outputs": [
    {
     "name": "stdout",
     "output_type": "stream",
     "text": [
      "0.5\n"
     ]
    }
   ],
   "source": [
    "v_initial = 0\n",
    "v_final = 10\n",
    "time = 20\n",
    "acc = (v_final - v_initial)/time\n",
    "print(acc)"
   ]
  },
  {
   "cell_type": "code",
   "execution_count": 4,
   "id": "04634ba0-2b15-43be-a58e-c6b64c3c74a3",
   "metadata": {},
   "outputs": [
    {
     "name": "stdin",
     "output_type": "stream",
     "text": [
      "enter the no 6\n"
     ]
    },
    {
     "name": "stdout",
     "output_type": "stream",
     "text": [
      "the average is 2.5\n"
     ]
    }
   ],
   "source": [
    "#write a program to find the avg of n Natural numbers\n",
    "n = int(input(\"enter the no\" ))\n",
    "sum =0\n",
    "for i in range (n):\n",
    "    sum = sum+i\n",
    "avg = sum/n\n",
    "print(f\"the average is {avg}\")"
   ]
  },
  {
   "cell_type": "code",
   "execution_count": 6,
   "id": "610b9dcf-d6a6-4b59-9749-6c647dd36268",
   "metadata": {},
   "outputs": [
    {
     "name": "stdin",
     "output_type": "stream",
     "text": [
      "Enter the number of natural numbers:  6\n",
      "Enter natural number 1:  1\n",
      "Enter natural number 2:  2\n",
      "Enter natural number 3:  3\n",
      "Enter natural number 4:  4\n",
      "Enter natural number 5:  5\n",
      "Enter natural number 6:  6\n"
     ]
    },
    {
     "name": "stdout",
     "output_type": "stream",
     "text": [
      "The average is 3.5\n"
     ]
    }
   ],
   "source": [
    "n = int(input(\"Enter the number of natural numbers: \"))\n",
    "sum = 0\n",
    "for i in range(n):\n",
    "    num = int(input(f\"Enter natural number {i+1}: \"))\n",
    "    sum += num\n",
    "avg = sum / n\n",
    "print(f\"The average is {avg}\")"
   ]
  },
  {
   "cell_type": "code",
   "execution_count": 8,
   "id": "61718a69-0742-4d64-bf18-c225e208f79c",
   "metadata": {},
   "outputs": [
    {
     "name": "stdin",
     "output_type": "stream",
     "text": [
      "Enter the number of terms:  5\n"
     ]
    },
    {
     "name": "stdout",
     "output_type": "stream",
     "text": [
      "0 1 1 2 3 "
     ]
    }
   ],
   "source": [
    "def fibonacci(n):\n",
    "    a, b = 0, 1\n",
    "    for i in range(n):\n",
    "        print(a, end=' ')\n",
    "        a, b = b, a + b\n",
    "\n",
    "n = int(input(\"Enter the number of terms: \"))\n",
    "fibonacci(n)"
   ]
  },
  {
   "cell_type": "code",
   "execution_count": 9,
   "id": "3c24f20c-b1e1-430f-8de1-f39c384b3717",
   "metadata": {},
   "outputs": [
    {
     "name": "stdout",
     "output_type": "stream",
     "text": [
      "Iterate through character B in the string 'Blue'\n",
      "Iterate through character l in the string 'Blue'\n",
      "Iterate through character u in the string 'Blue'\n",
      "Iterate through character e in the string 'Blue'\n"
     ]
    }
   ],
   "source": [
    "for each_character in \"Blue\":\n",
    "    print(f\"Iterate through character {each_character} in the string 'Blue'\")"
   ]
  },
  {
   "cell_type": "code",
   "execution_count": 11,
   "id": "6de72b75-f5e7-4d96-84ed-d6d62b697e2a",
   "metadata": {},
   "outputs": [
    {
     "name": "stdin",
     "output_type": "stream",
     "text": [
      "enter a no h\n"
     ]
    },
    {
     "name": "stdout",
     "output_type": "stream",
     "text": [
      "no valid number\n"
     ]
    },
    {
     "name": "stdin",
     "output_type": "stream",
     "text": [
      "enter a no 6\n"
     ]
    },
    {
     "name": "stdout",
     "output_type": "stream",
     "text": [
      "the no. you have is 6\n"
     ]
    }
   ],
   "source": [
    "while True:\n",
    "    try:\n",
    "        no = int(input(\"enter a no\"))\n",
    "        print(f\"the no. you have is {no}\")\n",
    "        break\n",
    "    except ValueError:\n",
    "        print(\"no valid number\")"
   ]
  },
  {
   "cell_type": "code",
   "execution_count": 12,
   "id": "a186b503-9d74-44f5-b7ce-a1bc77f1730e",
   "metadata": {},
   "outputs": [
    {
     "name": "stdout",
     "output_type": "stream",
     "text": [
      "1\n"
     ]
    }
   ],
   "source": [
    "i = 1\n",
    "while True:\n",
    "    if i%2 == 0:\n",
    "        break\n",
    "    print(i)\n",
    "    i += 1"
   ]
  },
  {
   "cell_type": "code",
   "execution_count": 14,
   "id": "638203bd-d01d-4275-9ef4-33edec04bb33",
   "metadata": {},
   "outputs": [
    {
     "name": "stdout",
     "output_type": "stream",
     "text": [
      "     1 \n",
      "    1 1 \n",
      "   1 2 1 \n",
      "  1 3 3 1 \n",
      " 1 4 6 4 1 \n"
     ]
    }
   ],
   "source": [
    "def pascal_triangle(n):\n",
    "    triangle = []  # List to store rows of Pascal's triangle\n",
    "\n",
    "    for i in range(n):\n",
    "        row = [1] * (i + 1)  # Initialize the row with 1s\n",
    "        for j in range(1, i):\n",
    "            # Calculate the value of each element in the row\n",
    "            row[j] = triangle[i - 1][j - 1] + triangle[i - 1][j]\n",
    "        triangle.append(row)\n",
    "\n",
    "    # Print the triangle row by row\n",
    "    for i in range(n):\n",
    "        print(\" \" * (n - i), end=\"\")  # Center-align the triangle\n",
    "        for j in range(i + 1):\n",
    "            print(triangle[i][j], end=\" \")\n",
    "        print()  # Move to the next line after printing each row\n",
    "\n",
    "# Example: Generate Pascal's Triangle with 5 rows\n",
    "pascal_triangle(5)\n"
   ]
  },
  {
   "cell_type": "code",
   "execution_count": 15,
   "id": "e8aa93a2-8358-495b-b0fb-d0b83474086d",
   "metadata": {},
   "outputs": [
    {
     "name": "stdout",
     "output_type": "stream",
     "text": [
      "Python Programming!\n"
     ]
    }
   ],
   "source": [
    "def tweet():\n",
    "    print(\"Python Programming!\")\n",
    "tweet()"
   ]
  },
  {
   "cell_type": "code",
   "execution_count": 16,
   "id": "6c31b95e-e6c2-4199-802c-2ca07442a958",
   "metadata": {},
   "outputs": [
    {
     "name": "stdout",
     "output_type": "stream",
     "text": [
      "\\nWelcome\n"
     ]
    }
   ],
   "source": [
    " print(r\"\\nWelcome\")"
   ]
  },
  {
   "cell_type": "code",
   "execution_count": 17,
   "id": "1f75a525-b417-4288-92ba-4ee957e1bd88",
   "metadata": {},
   "outputs": [
    {
     "name": "stdout",
     "output_type": "stream",
     "text": [
      "False\n"
     ]
    }
   ],
   "source": [
    " print('200.123'.isnumeric())"
   ]
  },
  {
   "cell_type": "code",
   "execution_count": 18,
   "id": "f449b302-8869-4879-9979-f9fd9eb521e6",
   "metadata": {},
   "outputs": [
    {
     "name": "stdout",
     "output_type": "stream",
     "text": [
      "!\n",
      "d\n",
      "l\n",
      "r\n",
      "o\n",
      "w\n",
      " \n",
      ",\n",
      "o\n",
      "l\n",
      "l\n",
      "e\n",
      "H\n"
     ]
    }
   ],
   "source": [
    "def reverse_letters(string):\n",
    "  for letter in string[::-1]:\n",
    "    print(letter)\n",
    "\n",
    "# Example usage:\n",
    "input_string = \"Hello, world!\"\n",
    "reverse_letters(input_string)"
   ]
  },
  {
   "cell_type": "code",
   "execution_count": 20,
   "id": "afd4551f-1526-477d-b9fe-f5a5f80d1101",
   "metadata": {},
   "outputs": [
    {
     "data": {
      "text/plain": [
       "'Dhiti'"
      ]
     },
     "execution_count": 20,
     "metadata": {},
     "output_type": "execute_result"
    }
   ],
   "source": [
    "message = 'Dhiti'\n",
    "message[:]"
   ]
  },
  {
   "cell_type": "code",
   "execution_count": 21,
   "id": "42c7645a-fe9b-475c-8ab3-a9d9777b03ff",
   "metadata": {},
   "outputs": [
    {
     "name": "stdout",
     "output_type": "stream",
     "text": [
      "jolly\n"
     ]
    }
   ],
   "source": [
    "def rotate_word(word, n):\n",
    "  \"\"\"Rotates the letters of a word by n positions.\n",
    "\n",
    "  Args:\n",
    "    word: The input word.\n",
    "    n: The number of positions to rotate.\n",
    "\n",
    "  Returns:\n",
    "    The rotated word.\n",
    "  \"\"\"\n",
    "\n",
    "  # Create a list of all lowercase letters\n",
    "  alphabet = \"abcdefghijklmnopqrstuvwxyz\"\n",
    "\n",
    "  # Rotate each letter using string operations\n",
    "  rotated_word = \"\"\n",
    "  for letter in word:\n",
    "    if letter.lower() in alphabet:\n",
    "      # Calculate the new index using string operations\n",
    "      new_index = (alphabet.index(letter.lower()) + n) % 26\n",
    "      rotated_letter = alphabet[new_index]\n",
    "      if letter.isupper():\n",
    "        rotated_letter = rotated_letter.upper()\n",
    "      rotated_word += rotated_letter\n",
    "    else:\n",
    "      rotated_word += letter\n",
    "\n",
    "  return rotated_word\n",
    "\n",
    "# Example usage:\n",
    "word = \"cheer\"\n",
    "n = 7\n",
    "rotated_word = rotate_word(word, n)\n",
    "print(rotated_word)"
   ]
  },
  {
   "cell_type": "code",
   "execution_count": 2,
   "id": "7df21fb5-7387-4e1a-b697-b68d6f7e5218",
   "metadata": {},
   "outputs": [
    {
     "name": "stdout",
     "output_type": "stream",
     "text": [
      "21\n"
     ]
    }
   ],
   "source": [
    "def binary_to_decimal(binary_str):\n",
    "    decimal_value = 0\n",
    "    power = len(binary_str) - 1\n",
    "    for digit in binary_str:\n",
    "        if digit == '1':\n",
    "            decimal_value += 2 ** power\n",
    "        power -= 1\n",
    "    return decimal_value\n",
    "\n",
    "binary_str = \"10101\"\n",
    "decimal_value = binary_to_decimal(binary_str)\n",
    "print(decimal_value)\n"
   ]
  },
  {
   "cell_type": "code",
   "execution_count": 25,
   "id": "b66e2750-c488-4c67-ac7c-f9a73785ac5f",
   "metadata": {},
   "outputs": [
    {
     "data": {
      "text/plain": [
       "['e', 'c', 'a']"
      ]
     },
     "execution_count": 25,
     "metadata": {},
     "output_type": "execute_result"
    }
   ],
   "source": [
    " letters = ['a', 'b', 'c', 'd', 'e'] \n",
    "letters[::-2]"
   ]
  },
  {
   "cell_type": "code",
   "execution_count": 3,
   "id": "2296cbdd-1ef7-4656-a1fc-2d8cb1f815a7",
   "metadata": {},
   "outputs": [
    {
     "name": "stdout",
     "output_type": "stream",
     "text": [
      "5\n"
     ]
    }
   ],
   "source": [
    " t1 = [1, 2, 3, 4]  # Use square brackets for a list\n",
    "t1.append((5, 6, 7))\n",
    "print(len(t1))\n"
   ]
  },
  {
   "cell_type": "code",
   "execution_count": 30,
   "id": "182a470f-bdf2-4f23-b0e8-179893a91769",
   "metadata": {},
   "outputs": [
    {
     "name": "stdout",
     "output_type": "stream",
     "text": [
      "{'a', 'd', 'c', 'b'}\n"
     ]
    }
   ],
   "source": [
    " s1 = {'a','b','c'}\n",
    " s2 = {'d'}\n",
    " print(s1.union(s2))"
   ]
  },
  {
   "cell_type": "code",
   "execution_count": 31,
   "id": "f54e3f45-cd38-4213-8639-7493848ba439",
   "metadata": {},
   "outputs": [
    {
     "name": "stdout",
     "output_type": "stream",
     "text": [
      "5\n",
      "5\n",
      "5\n",
      "5\n",
      "5\n"
     ]
    }
   ],
   "source": [
    "for i in range(5,-2,-7): \n",
    "    for j in range(i): \n",
    "        print(i)  "
   ]
  },
  {
   "cell_type": "code",
   "execution_count": 33,
   "id": "d31e8380-5e66-4506-866d-c8f41bd6f127",
   "metadata": {},
   "outputs": [
    {
     "name": "stdout",
     "output_type": "stream",
     "text": [
      "[[1. 1. 1. 1.]\n",
      " [1. 0. 0. 1.]\n",
      " [1. 0. 0. 1.]\n",
      " [1. 1. 1. 1.]]\n"
     ]
    }
   ],
   "source": [
    "import numpy as np\n",
    "Z = np.ones((4,4)) \n",
    "Z[1:-1,1:-1] = 0 \n",
    "print(Z) "
   ]
  },
  {
   "cell_type": "code",
   "execution_count": null,
   "id": "caed379a-7ea2-4565-9da5-fd80b944902e",
   "metadata": {},
   "outputs": [],
   "source": []
  }
 ],
 "metadata": {
  "kernelspec": {
   "display_name": "Python 3 (ipykernel)",
   "language": "python",
   "name": "python3"
  },
  "language_info": {
   "codemirror_mode": {
    "name": "ipython",
    "version": 3
   },
   "file_extension": ".py",
   "mimetype": "text/x-python",
   "name": "python",
   "nbconvert_exporter": "python",
   "pygments_lexer": "ipython3",
   "version": "3.12.0"
  }
 },
 "nbformat": 4,
 "nbformat_minor": 5
}
